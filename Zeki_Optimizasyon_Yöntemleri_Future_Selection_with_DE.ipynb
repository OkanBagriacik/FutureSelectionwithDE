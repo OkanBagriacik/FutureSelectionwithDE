{
  "nbformat": 4,
  "nbformat_minor": 0,
  "metadata": {
    "colab": {
      "name": "Zeki Optimizasyon Yöntemleri - Future Selection with DE.ipynb",
      "provenance": [],
      "collapsed_sections": []
    },
    "kernelspec": {
      "name": "python3",
      "display_name": "Python 3"
    },
    "language_info": {
      "name": "python"
    }
  },
  "cells": [
    {
      "cell_type": "markdown",
      "source": [
        "# Diferansiyel Evrim Algoritması ile Future Selection\n",
        "\n",
        "\"https://github.com/JingweiToo/Wrapper-Feature-Selection-Toolbox-Python\" adresi üzerinden alınmış veri seti ile beraber Future Selection yapılmıştır. Burada ki amaç veri seti içerisinde ki verilerin optimal olanlarının belirlenmesi ve kullanılmasıdır. \n",
        "\n"
      ],
      "metadata": {
        "id": "lECfdMWvdU24"
      }
    },
    {
      "cell_type": "markdown",
      "source": [
        "İlk olarak Python dili ile yazılmasına karar verilmiş olan Future Selection için gerekli kütüphanelerin implamantasyonu yapılmıştır. "
      ],
      "metadata": {
        "id": "bByaw-pZd2SV"
      }
    },
    {
      "cell_type": "code",
      "execution_count": 21,
      "metadata": {
        "id": "2QGFpfr9dINU"
      },
      "outputs": [],
      "source": [
        "import numpy as np\n",
        "import pandas as pd\n",
        "from sys import exit\n",
        "import matplotlib.pyplot as plt"
      ]
    },
    {
      "cell_type": "markdown",
      "source": [
        "Daha sonrasında veri seti içerisinde her seferinde aynı verilerin alınması ve incelenmesini engellemek amacıyla rastgele seçim methodları yazılmıştır. "
      ],
      "metadata": {
        "id": "ID59TjD6eJQc"
      }
    },
    {
      "cell_type": "code",
      "source": [
        "rand = np.random.rand\n",
        "choice = np.random.choice\n",
        "clip = np.clip\n",
        "argmin = np.argmin\n",
        "min = np.min"
      ],
      "metadata": {
        "id": "G-m9gAnreWiw"
      },
      "execution_count": 22,
      "outputs": []
    },
    {
      "cell_type": "markdown",
      "source": [
        "Veri seti içerisinden verilerin alınması ve daha sonrasında Diferansiyel Evrim Algoritması tarafında kullanılması için bir definasyon yazılmıştır. Bu definasyon verileri alarak ebeveynleri oluşturmaktadır. "
      ],
      "metadata": {
        "id": "ohlFmApxeaVQ"
      }
    },
    {
      "cell_type": "code",
      "source": [
        "# veri olusturucu fonksiyon\n",
        "def veri_olustur(x):\n",
        "\treturn x[0]**2.0 + x[1]**2.0"
      ],
      "metadata": {
        "id": "kA2LSM_Fezq8"
      },
      "execution_count": 23,
      "outputs": []
    },
    {
      "cell_type": "markdown",
      "source": [
        "Daha sonrasında Diferansiyel Evrim Algoritmasında kullanılacak olan  mutasyon,sınır kontorlü ve çaprazlama operasyonları için ayrı ayrı 3 definasyon oluşturulmuştur."
      ],
      "metadata": {
        "id": "FuYsBuMafHjc"
      }
    },
    {
      "cell_type": "code",
      "source": [
        "# mutasyon fonksiyonu\n",
        "def mutasyon(x, F):\n",
        "\treturn x[0] + F * (x[1] - x[2])\n",
        "\n",
        "# boundary kontrol eden fonksiyon\n",
        "def bounds_kontrol(mutated, bounds):\n",
        "\tmutated_bound = [clip(mutated[i], bounds[i, 0], bounds[i, 1]) for i in range(len(bounds))]\n",
        "\treturn mutated_bound\n",
        "\n",
        "# caprazlama yapan fonksiyon\n",
        "def caprazlama(mutated, target, dims, cr):\n",
        "\t# her dim icin ayri random value uret\n",
        "\tp = rand(dims)\n",
        "\t# binom caprazlama\n",
        "\ttrial = [mutated[i] if p[i] < cr else target[i] for i in range(dims)]\n",
        "\treturn trial"
      ],
      "metadata": {
        "id": "sEwjcXpCfh0g"
      },
      "execution_count": 24,
      "outputs": []
    },
    {
      "cell_type": "markdown",
      "source": [
        "Diferansiyel Evrim algoritması içinde bir definasyon oluşturulmuştur. Burada öncelikle bir random seçim uygulanmaktadır. Amaç veriseti içerisinden verilerin seçilmesi ebeveyn olarak kullanılmasıdır. Bu ebeveynler başlangıç popülasyonu içersinde yer alır ve ilk iterasyon bu Futureler üzerinden yapılır. Kullanıcı tarafından belirlenen iterasyon sayısı kadar iterasyon işlemi başlar. En iyi 3 aday seçilir ve Diferansiyel Evrim algoritması operasyonları uygulanır. Bu işlem uygulandıkça döngü içerisinde ki en iyi değerler seçilir ve saklanır. Bu değerler veri seti içerisinde ki kullanılabilir verileri temsil etmektedir. "
      ],
      "metadata": {
        "id": "ETCC0rvTfp77"
      }
    },
    {
      "cell_type": "code",
      "source": [
        "def diferansiyel_evrim(pop_size, bounds, iter, F, cr):\n",
        "\t# random secim yap\n",
        "\tpop = bounds[:, 0] + (rand(pop_size, len(bounds)) * (bounds[:, 1] - bounds[:, 0]))\n",
        "\t# baslangic popunu ayarla\n",
        "\tobj_all = [veri_olustur(ind) for ind in pop]\n",
        "\t# baslangic popundaki en iyiyi bul\n",
        "\tbest_vector = pop[argmin(obj_all)]\n",
        "\tbest_obj = min(obj_all)\n",
        "\tprev_obj = best_obj\n",
        "\t# iter sayisi kadar\n",
        "\tfor i in range(iter):\n",
        "\t\t# pop sayisi kadar iterasyonlari calistir\n",
        "\t\tfor j in range(pop_size):\n",
        "\t\t\t# 3 aday bul\n",
        "\t\t\tcandidates = [candidate for candidate in range(pop_size) if candidate != j]\n",
        "\t\t\ta, b, c = pop[choice(candidates, 3, replace=False)]\n",
        "\t\t\t# mutasyon yap\n",
        "\t\t\tmutated = mutasyon([a, b, c], F)\n",
        "\t\t\t# mutasyondan sonraki lower ve upperleri bul\n",
        "\t\t\tmutated = bounds_kontrol(mutated, bounds)\n",
        "\t\t\t# caprazlama yap\n",
        "\t\t\ttrial = caprazlama(mutated, pop[j], len(bounds), cr)\n",
        "\t\t\t# herefi belirle\n",
        "\t\t\tobj_target = veri_olustur(pop[j])\n",
        "\t\t\t# hedef degerini hesapla\n",
        "\t\t\tobj_trial = veri_olustur(trial)\n",
        "\t\t\t# hedeften secim yap\n",
        "\t\t\tif obj_trial < obj_target:\n",
        "\t\t\t\t# hedefi deneme vektoruyle degistirin\n",
        "\t\t\t\tpop[j] = trial\n",
        "\t\t\t\t# yeni degere ata\n",
        "\t\t\t\tobj_all[j] = obj_trial\n",
        "\t\t# her iter sonrasi en iyi degeri sakla\n",
        "\t\tbest_obj = min(obj_all)\n",
        "\t\t# en dusuk yanlisa sahip degeri sakla\n",
        "\t\tif best_obj < prev_obj:\n",
        "\t\t\tbest_vector = pop[argmin(obj_all)]\n",
        "\t\t\tprev_obj = best_obj\n",
        "\t\t\t# her yineleme sonrasi kotrol edip degerleri degistir\n",
        "\treturn best_vector"
      ],
      "metadata": {
        "id": "Hc6_vUiyfupy"
      },
      "execution_count": 25,
      "outputs": []
    },
    {
      "cell_type": "markdown",
      "source": [
        "Kullanıcı tarafında Future Selection işlemi yapılacak veri setinin girişinin yapılması için bir kod yazılmıştır. Burada kullanıcı istediği veri setinin ismini girerek işlemin başlatılmasını sağlar.\n",
        "\n"
      ],
      "metadata": {
        "id": "rjSOW0Xzg4n1"
      }
    },
    {
      "cell_type": "code",
      "source": [
        "# datayi oku\n",
        "try:\n",
        "\tdata  = pd.read_csv(input('Veriseti dosya ismini giriniz: '))\n",
        "\t# data  = pd.read_csv('test.csv')\n",
        "\tveriler  = data.values\n",
        "except:\n",
        "\tprint(\"Dosya okunurken sorun olustu.\")\n",
        "\texit(1)\n",
        "\n",
        "print(\"Islemler baslatildi.\")"
      ],
      "metadata": {
        "colab": {
          "base_uri": "https://localhost:8080/"
        },
        "id": "uoVR_3rCg5YO",
        "outputId": "a6ae2584-3c7a-4504-bf9f-ee1c1bd47ff9"
      },
      "execution_count": 27,
      "outputs": [
        {
          "output_type": "stream",
          "name": "stdout",
          "text": [
            "Veriseti dosya ismini giriniz: ionosphere.csv\n",
            "Islemler baslatildi.\n"
          ]
        }
      ]
    },
    {
      "cell_type": "markdown",
      "source": [
        "Burada Diferansiyel Evrim Algoritması içerisinde kullanılcak olan parametreler kullanıcı tarafından belirlenmekte ve yazılmaktadır. "
      ],
      "metadata": {
        "id": "PG0YCS7nhKbE"
      }
    },
    {
      "cell_type": "code",
      "source": [
        "# pop boyutu\n",
        "pop_boyutu = 20\n",
        "# iterasyon sayisi\n",
        "iterasyon_carpani = 1000\n",
        "# mutasyon carpani\n",
        "mutasyon_carpani = 0.2\n",
        "# caprazlama carpani\n",
        "cc = 0.9"
      ],
      "metadata": {
        "id": "9pZMhg0ZhKgf"
      },
      "execution_count": 64,
      "outputs": []
    },
    {
      "cell_type": "markdown",
      "source": [
        "Diferansiyel Evrim Algoritması yukarıda bir definasyon olarak çalışmaktadır. Bu sebep ile burada o definasyonu çağırmakta ve çalıştırmaktayız. "
      ],
      "metadata": {
        "id": "lQdmhKqrhTzj"
      }
    },
    {
      "cell_type": "code",
      "source": [
        "# diferansiyel evrimi calistir\n",
        "try:\n",
        "\tsolution = diferansiyel_evrim(pop_boyutu, veriler, iterasyon_carpani, mutasyon_carpani, cc)\n",
        "except:\n",
        "\tprint(\"Diferansiyel evrim yapilirken sorun olustu.\")\n",
        "\texit(1)"
      ],
      "metadata": {
        "id": "rNfy-P7LhT6-"
      },
      "execution_count": 65,
      "outputs": []
    },
    {
      "cell_type": "markdown",
      "source": [
        "Seçilen sonuçlar içerisinde Null veriler bulunuyorsa onları sonuç kısmından çıkarıyoruz ve kalanlardan kaç tane değer seçildiğini görüyoruz. "
      ],
      "metadata": {
        "id": "BIlcQsdMhyW0"
      }
    },
    {
      "cell_type": "code",
      "source": [
        "# gelen sonuc secindeki sifir olmayan alanlari alip, boyutunu ekrana yazdiriyoruz\n",
        "solution = solution[solution != 0]\n",
        "print(\"Sonuc sayisi:\", len(solution))"
      ],
      "metadata": {
        "colab": {
          "base_uri": "https://localhost:8080/"
        },
        "id": "JHfBop8ThyfN",
        "outputId": "f0e1c622-495a-4bdb-b114-64da9cca2ee7"
      },
      "execution_count": 66,
      "outputs": [
        {
          "output_type": "stream",
          "name": "stdout",
          "text": [
            "Sonuc sayisi: 32\n"
          ]
        }
      ]
    },
    {
      "cell_type": "markdown",
      "source": [
        "Son olarak Diferanyel Evrim Algoritmamızın ne kadar iyi çalıştığını göstermek için bir plot yazılmıştır. Burada amaç seçilen verileri doğruluğunu kontrol etmektir."
      ],
      "metadata": {
        "id": "rFLUXweRhhWG"
      }
    },
    {
      "cell_type": "code",
      "source": [
        "\n",
        "\n",
        "\n",
        "plt.figure(figsize=(12,6))\n",
        "\n",
        "plt.plot(solution, 'o-')\n",
        "plt.xlabel(\"Seçilen Verilerin Sayısı\")\n",
        "plt.ylabel(\"Fitness Değeri\")\n",
        "plt.show()\n",
        "\n",
        "\n"
      ],
      "metadata": {
        "colab": {
          "base_uri": "https://localhost:8080/",
          "height": 388
        },
        "id": "_4YlahR7hhax",
        "outputId": "6629244e-7104-45af-e525-0a26214b3a9d"
      },
      "execution_count": 67,
      "outputs": [
        {
          "output_type": "display_data",
          "data": {
            "image/png": "[encoded data removed]",
            "text/plain": [
              "<Figure size 864x432 with 1 Axes>"
            ]
          },
          "metadata": {
            "needs_background": "light"
          }
        }
      ]
    }
  ]
}